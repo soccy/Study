{
  "nbformat": 4,
  "nbformat_minor": 0,
  "metadata": {
    "colab": {
      "provenance": [],
      "authorship_tag": "ABX9TyMEMBzTsOU5i7Rdkh5rSVkO",
      "include_colab_link": true
    },
    "kernelspec": {
      "name": "python3",
      "display_name": "Python 3"
    },
    "language_info": {
      "name": "python"
    }
  },
  "cells": [
    {
      "cell_type": "markdown",
      "metadata": {
        "id": "view-in-github",
        "colab_type": "text"
      },
      "source": [
        "<a href=\"https://colab.research.google.com/github/soccy/Study/blob/main/hongong_03_3.ipynb\" target=\"_parent\"><img src=\"https://colab.research.google.com/assets/colab-badge.svg\" alt=\"Open In Colab\"/></a>"
      ]
    },
    {
      "cell_type": "markdown",
      "source": [
        "# 특성 공학과 규제: 여러 특성을 사용사용한 다중 회귀에 대해 배우고, 사이킷런의 여러 도구를 사용해 보자\n",
        "# 복잡한 모델의 과대적합을 막기 위한 릿지(Ridge)와 라쏘(Lasso) 회귀를 배워보자\n",
        "\n"
      ],
      "metadata": {
        "id": "gf9mYOtqXatH"
      }
    }
  ]
}